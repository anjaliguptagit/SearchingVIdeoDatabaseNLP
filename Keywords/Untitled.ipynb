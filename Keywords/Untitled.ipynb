{
 "cells": [
  {
   "cell_type": "code",
   "execution_count": 7,
   "metadata": {},
   "outputs": [
    {
     "name": "stdout",
     "output_type": "stream",
     "text": [
      "['text_files/Lecture4_HowtorecordAbsorptionandEmissionSpectra/0.txt', 'text_files/130210-28EFYAUCVQ-540/0.txt', 'text_files/mod02lec07/1.txt', 'text_files/Lecture06-BasicBiomassTechnologyResourcesandProduction/2.txt', 'text_files/Lecture06-BasicBiomassTechnologyResourcesandProduction/1.txt'] <class 'list'>\n"
     ]
    }
   ],
   "source": [
    "# -*- coding: utf-8 -*-\n",
    "\"\"\"\n",
    "Created on Sun May 31 17:09:51 2020\n",
    "\n",
    "@author: Shwetha\n",
    "\"\"\"\n",
    "# -*- coding: utf-8 -*-\n",
    "\"\"\"\n",
    "Created on Sun May 31 09:08:07 2020\n",
    "\n",
    "@author: Shwetha\n",
    "\"\"\"\n",
    "import cv2\n",
    "import time\n",
    "import pandas as pd\n",
    "topics=pd.read_csv(\"Vid.csv\")\n",
    "#print(recipes)\n",
    "#recipes.columns\n",
    "import numpy as np \n",
    "import re\n",
    "import nltk\n",
    "from nltk.corpus import brown\n",
    "from nltk.corpus import reuters\n",
    "from nltk.tokenize import word_tokenize\n",
    "from nltk.tokenize import RegexpTokenizer\n",
    "from nltk.corpus import stopwords\n",
    "from nltk.stem.porter import PorterStemmer\n",
    "import imutils\n",
    "import rake\n",
    "words=[]\n",
    "n=len(topics['Description'])\n",
    "for i in range(0,n):\n",
    "    #text= re.sub('[^a-zA-Z]', ' ', recipes['title'][i])\n",
    "    #text= text.lower()\n",
    "    #text= text.split(' ')\n",
    "    #text=list(filter(lambda x:x!='',text))\n",
    "    text=rake.funrake(topics['Description'][i]);\n",
    "    words.append(text)\n",
    "#print(words)\n",
    "def search(sentence):\n",
    "    sentence= re.sub('[^a-zA-Z]', ' ',sentence)\n",
    "    sentence= sentence.lower()\n",
    "    sentence= sentence.split(' ')\n",
    "    sentence= list(filter(lambda x:x!='',sentence))\n",
    "    rank=[]\n",
    "    for i in words:\n",
    "        n=0;\n",
    "        for j in sentence:\n",
    "            if j in i:\n",
    "                n=n+1\n",
    "        rank.append(n)\n",
    "    topic1=topics.assign(number_rank=rank)\n",
    "    #print(recipe1)\n",
    "    topic1=topic1.sort_values(by='number_rank',ascending=False)\n",
    "    return topic1\n",
    "\n",
    "#listing the sorted titles of video\n",
    "list1 = list(search('monochromatic')['Title'][0:5])\n",
    "print(list1, type(list1))\n",
    "#['Title'])\n",
    "#[0:10])\n"
   ]
  },
  {
   "cell_type": "code",
   "execution_count": null,
   "metadata": {},
   "outputs": [],
   "source": [
    "'''\n",
    "#taking input from user to select a video\n",
    "n=int(input(\"your choice\"))\n",
    "link=search('evastating green house book shoppping// study')['link'][n]\n",
    "\n",
    "#print(link)\n",
    "\n",
    "#Play the video, press q to stop playing the video\n",
    "vs = cv2.VideoCapture(link)\n",
    "time.sleep(2.0)\n",
    "while True:\n",
    "    frame = vs.read()\n",
    "    frame = frame[1]\n",
    "    frame = imutils.resize(frame, width=600)\n",
    "    if frame is None:\n",
    "       break\n",
    "    cv2.imshow(\"frame\",frame)\n",
    "    key = cv2.waitKey(1) & 0xFF\n",
    "    if key == ord(\"q\"):\n",
    "        break\n",
    "vs.release()\n",
    "cv2.destroyAllWindows()\n",
    "'''\n"
   ]
  }
 ],
 "metadata": {
  "kernelspec": {
   "display_name": "Python 3",
   "language": "python",
   "name": "python3"
  },
  "language_info": {
   "codemirror_mode": {
    "name": "ipython",
    "version": 3
   },
   "file_extension": ".py",
   "mimetype": "text/x-python",
   "name": "python",
   "nbconvert_exporter": "python",
   "pygments_lexer": "ipython3",
   "version": "3.6.9"
  }
 },
 "nbformat": 4,
 "nbformat_minor": 4
}
